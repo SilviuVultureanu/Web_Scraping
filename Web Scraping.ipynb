{
 "cells": [
  {
   "cell_type": "code",
   "execution_count": 1,
   "metadata": {},
   "outputs": [
    {
     "name": "stdout",
     "output_type": "stream",
     "text": [
      "<h1>Join the Millions <br/> Learning to Code <br/> with Codecademy</h1>\n",
      "[\"By signing up for Codecademy, you agree to Codecademy's Terms of Service & Privacy Policy.\", 'No need to worry, we’ll help you make sense of it all.', \"From building websites to analyzing data, the choice is yours. Not sure where to start? We'll point you in the right direction.\", \"No matter your experience level, you'll be writing real, working code in minutes.\", \"Your code is tested as soon as you submit it, so you always know if you're on the right track.\", 'Apply your learning with real-world projects and test your knowledge with tailor-made quizzes.', 'Coding skills have never been more in-demand. Learn everything you need to take your career to the next level.']\n",
      "                                                Text\n",
      "0  By signing up for Codecademy, you agree to Cod...\n",
      "1  No need to worry, we’ll help you make sense of...\n",
      "2  From building websites to analyzing data, the ...\n",
      "3  No matter your experience level, you'll be wri...\n",
      "4  Your code is tested as soon as you submit it, ...\n",
      "5  Apply your learning with real-world projects a...\n",
      "6  Coding skills have never been more in-demand. ...\n"
     ]
    }
   ],
   "source": [
    "# Import libraries \n",
    "import pandas as pd\n",
    "from bs4 import BeautifulSoup\n",
    "import requests\n",
    " \n",
    "# Assign URL to variable\n",
    "url = \"https://www.codecademy.com/\"\n",
    " \n",
    "# Send request to download the data from URL\n",
    "response = requests.request(\"GET\", url)\n",
    " \n",
    "# Create BeautifulSoup object\n",
    "# Use HTML parser to parse the page's text\n",
    "data = BeautifulSoup(response.text, 'html.parser')\n",
    " \n",
    "# Print the first header of the page\n",
    "print(data.html.h1)\n",
    " \n",
    "# Instantiate list to append some content\n",
    "content = []\n",
    " \n",
    "# Use BeautifulSoup's find_all method to find all paragraph tags\n",
    "words = data.find_all('p')\n",
    " \n",
    "# Iterate through all paragraph tags\n",
    "# append text to list with for loop\n",
    "for word in words:\n",
    "    content.append(word.text)\n",
    " \n",
    "# Check content\n",
    "print(content)\n",
    " \n",
    "# Create dataframe of content with pandas DataFrame method\n",
    "df = pd.DataFrame(content, columns= ['Text'])\n",
    " \n",
    "# Check scraped dataframe\n",
    "print(df)"
   ]
  },
  {
   "cell_type": "code",
   "execution_count": null,
   "metadata": {},
   "outputs": [],
   "source": []
  }
 ],
 "metadata": {
  "kernelspec": {
   "display_name": "Python 3",
   "language": "python",
   "name": "python3"
  },
  "language_info": {
   "codemirror_mode": {
    "name": "ipython",
    "version": 3
   },
   "file_extension": ".py",
   "mimetype": "text/x-python",
   "name": "python",
   "nbconvert_exporter": "python",
   "pygments_lexer": "ipython3",
   "version": "3.8.3"
  }
 },
 "nbformat": 4,
 "nbformat_minor": 4
}
